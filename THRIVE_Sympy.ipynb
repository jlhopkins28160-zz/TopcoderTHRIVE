{
 "cells": [
  {
   "cell_type": "code",
   "execution_count": null,
   "metadata": {},
   "outputs": [],
   "source": [
    "# Programmer: Johnny L. Hopkins\n",
    "# Date: December 19, 2019\n",
    "# Updated: December 26, 2019\n",
    "# THRIVE_Sympy: The Jupyter notebook accompanying my Topcoder THRIVE post on SymPy\n",
    "# The notebook looks at explorations in these areas: algebra and calculus"
   ]
  },
  {
   "cell_type": "code",
   "execution_count": null,
   "metadata": {},
   "outputs": [],
   "source": [
    "# In mathematics, we use variables, formulas, tasks, and numerical analysis to solve problems\n",
    "# Thus, to use SymPy we must import the libary into our notebook\n",
    "# The following declaration makes all functionality in SymPy available to use in code:\n",
    "from sympy import *"
   ]
  },
  {
   "cell_type": "code",
   "execution_count": null,
   "metadata": {},
   "outputs": [],
   "source": [
    "# In our first exploration, we work with a few examples in precalculus algebra\n",
    "# We use the variables x, y, and z to solve mathematical problems\n",
    "# We have to initializes these variables before doing manipulations using them in math problems\n",
    "# Here is how we initialize varibles in SymPy:\n",
    "x, y, z = symbols('x y z')\n",
    "\n",
    "# Next, I want to print out all math expressions used in SymPy in a Latex-style format\n",
    "# The function init_printing() prints expression cleanly in unicode:\n",
    "init_printing(use_unicode = True)"
   ]
  },
  {
   "cell_type": "code",
   "execution_count": null,
   "metadata": {},
   "outputs": [],
   "source": [
    "# Before using solve(), we can use the factor() method and factor our expression:\n",
    "factor(x**2 - 4)"
   ]
  },
  {
   "cell_type": "code",
   "execution_count": null,
   "metadata": {},
   "outputs": [],
   "source": [
    "# The following exmaples solve algebraic equations and expressions encountered in a precalculus course\n",
    "# We start by solving the following expression using the solve() function:\n",
    "solve(x**2 - 4, x)"
   ]
  },
  {
   "cell_type": "code",
   "execution_count": null,
   "metadata": {},
   "outputs": [],
   "source": [
    "# We take our quadratic expression and take its derivative\n",
    "diff((x**2 - 4) , x)"
   ]
  },
  {
   "cell_type": "code",
   "execution_count": null,
   "metadata": {},
   "outputs": [],
   "source": [
    "# Here is an exponential example of the diff() function\n",
    "diff(exp(x**3), x)"
   ]
  },
  {
   "cell_type": "code",
   "execution_count": null,
   "metadata": {},
   "outputs": [],
   "source": [
    "# I can also integrate our quadratic expression\n",
    "integrate((x**2 - 4), x)"
   ]
  }
 ],
 "metadata": {
  "kernelspec": {
   "display_name": "Python 3",
   "language": "python",
   "name": "python3"
  },
  "language_info": {
   "codemirror_mode": {
    "name": "ipython",
    "version": 3
   },
   "file_extension": ".py",
   "mimetype": "text/x-python",
   "name": "python",
   "nbconvert_exporter": "python",
   "pygments_lexer": "ipython3",
   "version": "3.7.4"
  }
 },
 "nbformat": 4,
 "nbformat_minor": 2
}
