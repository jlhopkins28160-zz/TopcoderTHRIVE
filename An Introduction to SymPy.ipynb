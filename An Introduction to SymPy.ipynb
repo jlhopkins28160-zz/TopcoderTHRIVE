{
 "cells": [
  {
   "cell_type": "markdown",
   "metadata": {},
   "source": [
    "# Introdcution to SymPy\n",
    "\n",
    "This is an introdcution to the SymPy symbolic manipulation library in Python. This library forms the basis of both Octave and Sage, two CAS systems written in Python. SymPy is the free-standing library which is used in symbolic manipulation. The library has the capability to solve expressions which arise in algebra, calculus, statistics, etc. Ocatave and Sage are programs using SymPy's methods to perfom mathematical calaculations. This notebook, accompanying the Topcode THRIVE post on SymPy, will highlight some functions and introduce the community to a useful Python library."
   ]
  },
  {
   "cell_type": "code",
   "execution_count": null,
   "metadata": {},
   "outputs": [],
   "source": [
    "# Programmer: Johnny L. Hopkins\n",
    "# Date: March 5, 2020\n",
    "# An Introduction to Sympy: Refer to the cell above for the purpose of the notebook."
   ]
  },
  {
   "cell_type": "code",
   "execution_count": null,
   "metadata": {},
   "outputs": [],
   "source": [
    "# To use Sympy, we must import the library:\n",
    "from sympy import *"
   ]
  },
  {
   "cell_type": "code",
   "execution_count": null,
   "metadata": {},
   "outputs": [],
   "source": [
    "# Before we can perform operations with SymPy, we must specify our variables.\n",
    "# We will use the 'x' variable in our calculations, so we call the Symbol() function as follows:\n",
    "x = Symbol('x')"
   ]
  },
  {
   "cell_type": "code",
   "execution_count": null,
   "metadata": {},
   "outputs": [],
   "source": [
    "# We want our output to resemble what is found in math textbooks and research literature, so we \n",
    "# call the init_printing() function as follows:\n",
    "init_printing()\n",
    "\n",
    "# To test our output, we print a sample expression using the Integral() function, which prints out integrals\n",
    "# in real time. \n",
    "Integral(x**2, x)"
   ]
  },
  {
   "cell_type": "code",
   "execution_count": null,
   "metadata": {},
   "outputs": [],
   "source": [
    "# Now that we have ensured \"pretty\" printing, we are ready to solve expressions.\n",
    "# For example, we can factor the following expression using the solve() function:\n",
    "solve(x**3-1, x)"
   ]
  },
  {
   "cell_type": "code",
   "execution_count": null,
   "metadata": {},
   "outputs": [],
   "source": [
    "# Next, we can take the deriviative of the above expression with the diff() function:\n",
    "diff((x**3-1), x)"
   ]
  },
  {
   "cell_type": "code",
   "execution_count": null,
   "metadata": {},
   "outputs": [],
   "source": [
    "# We can find the antiderivative of 3x^2 using the integrate() function. \n",
    "# Note: integrate() and Integral() are two different functions. The first function, integrate(),\n",
    "# finds the antiderivative while Integral() prints an expression to the screen\n",
    "integrate(3*x**2, x)"
   ]
  }
 ],
 "metadata": {
  "kernelspec": {
   "display_name": "Python 3",
   "language": "python",
   "name": "python3"
  },
  "language_info": {
   "codemirror_mode": {
    "name": "ipython",
    "version": 3
   },
   "file_extension": ".py",
   "mimetype": "text/x-python",
   "name": "python",
   "nbconvert_exporter": "python",
   "pygments_lexer": "ipython3",
   "version": "3.7.4"
  }
 },
 "nbformat": 4,
 "nbformat_minor": 2
}
