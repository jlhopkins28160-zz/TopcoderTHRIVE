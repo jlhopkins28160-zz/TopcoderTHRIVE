{
 "cells": [
  {
   "cell_type": "code",
   "execution_count": null,
   "metadata": {},
   "outputs": [],
   "source": [
    "# Programmer: Johnny L. Hopkins\n",
    "# Date: December 18, 2019\n",
    "# AmesEDA: The Jupyter notebook to accompany my Topcoder THRIVE post on Exploratory Data Science\n",
    "# The Ames Housing dataset was created by Dean Cook for his statistics courses\n",
    "# Ames is an update to the Boston Housing dataset and list variables and data for houses in Ames, Iowa\n",
    "# Ames is used to predict the selling price of homes using linear regression techniques\n",
    "# The following libraries arwe used for this exploratory analysis: Pandas, NumPy, and Matplotlib"
   ]
  },
  {
   "cell_type": "code",
   "execution_count": null,
   "metadata": {},
   "outputs": [],
   "source": [
    "# This is an explotratory analysis of the Ames Housing dataset so the following libraries have to be imported:\n",
    "\n",
    "import numpy as np\n",
    "import pandas as pd\n",
    "import matplotlib.pyplot as plt\n",
    "%matplotlib inline"
   ]
  },
  {
   "cell_type": "code",
   "execution_count": null,
   "metadata": {},
   "outputs": [],
   "source": [
    "# The first step in our exploratory analysis of the Ames Housing data is to export it into our notebook\n",
    "Ames_data = pd.read_csv(\"C:\\AmesHousing.csv\")\n",
    "\n",
    "# To ensure the data has been exported into our program, print out the contents\n",
    "print(Ames_data)\n",
    "\n",
    "# Now, I want a general analysis of my data, so I call the Pandas decribe() function:\n",
    "Ames_data.describe()"
   ]
  },
  {
   "cell_type": "code",
   "execution_count": null,
   "metadata": {},
   "outputs": [],
   "source": [
    "# I want to calculate the median of the Ames Housing dataset, so I call the median() function\n",
    "Ames_data.median()"
   ]
  },
  {
   "cell_type": "code",
   "execution_count": null,
   "metadata": {},
   "outputs": [],
   "source": [
    "# Take the SaleData variable and plot a histogram\n",
    "num_bins = 20\n",
    "plt.hist(Ames_data['SalePrice'], num_bins, density = 1, facecolor = 'blue', alpha = 0.5)\n",
    "plt.show()"
   ]
  },
  {
   "cell_type": "code",
   "execution_count": null,
   "metadata": {},
   "outputs": [],
   "source": [
    "# Take the SaleData varable and generate a boxplot\n",
    "plt.boxplot(Ames_data['SalePrice'])\n",
    "plt.show()"
   ]
  }
 ],
 "metadata": {
  "kernelspec": {
   "display_name": "Python 3",
   "language": "python",
   "name": "python3"
  },
  "language_info": {
   "codemirror_mode": {
    "name": "ipython",
    "version": 3
   },
   "file_extension": ".py",
   "mimetype": "text/x-python",
   "name": "python",
   "nbconvert_exporter": "python",
   "pygments_lexer": "ipython3",
   "version": "3.7.4"
  }
 },
 "nbformat": 4,
 "nbformat_minor": 2
}
