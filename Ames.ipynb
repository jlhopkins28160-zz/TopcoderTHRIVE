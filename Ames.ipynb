{
 "cells": [
  {
   "cell_type": "code",
   "execution_count": null,
   "metadata": {},
   "outputs": [],
   "source": [
    "# Programmer: Johnny L. Hopkins\n",
    "# Date: December 18, 2019\n",
    "# Updated: January 6, 2020\n",
    "# Updated: January 28, 2019\n",
    "# Updated: February 22, 2020\n",
    "# AmesEDA: The Jupyter notebook to accompany my Topcoder THRIVE post on Exploratory Data Analysis\n",
    "# The Ames Housing dataset was created by Dr. Dean DeCock for his statistics courses\n",
    "# Ames is an update to the Boston Housing dataset and list variables and data for houses in Ames, Iowa\n",
    "# Ames is used to predict the selling price of homes using linear regression techniques\n",
    "# The following libraries are used for this exploratory analysis: Pandas, NumPy, Matplotlib, and Seaborn\n",
    "# The SalePrice variable is analyzed in this notebook as it is the basis for making predictions based off of the Ames data set"
   ]
  },
  {
   "cell_type": "code",
   "execution_count": null,
   "metadata": {},
   "outputs": [],
   "source": [
    "# This is an explotratory analysis of the Ames Housing dataset so the following libraries have to be imported:\n",
    "import numpy as np\n",
    "import pandas as pd\n",
    "import matplotlib.pyplot as plt\n",
    "%matplotlib inline\n",
    "\n",
    "# I am interested in how the data is skewed, so I import SciPy as follows:\n",
    "from scipy import stats\n",
    "\n",
    "# For our expploratory data analysis, I will fit a normal curve over my histogram using Seaborn:\n",
    "import seaborn as sns"
   ]
  },
  {
   "cell_type": "code",
   "execution_count": null,
   "metadata": {},
   "outputs": [],
   "source": [
    "# The first step in our exploratory analysis of the Ames Housing data is to export it into our notebook\n",
    "Ames_data = pd.read_csv(\"C:\\AmesHousing.csv\")"
   ]
  },
  {
   "cell_type": "code",
   "execution_count": null,
   "metadata": {},
   "outputs": [],
   "source": [
    "# I will output the first 10 values with the head() function\n",
    "Ames_data.head(10)"
   ]
  },
  {
   "cell_type": "code",
   "execution_count": null,
   "metadata": {},
   "outputs": [],
   "source": [
    "# I will output the last 10 values with the tail() function\n",
    "Ames_data.tail(10)"
   ]
  },
  {
   "cell_type": "code",
   "execution_count": null,
   "metadata": {},
   "outputs": [],
   "source": [
    "# Since there is 2000+ data points in the Ames data set, I will randomly select 100 values using the sample() function\n",
    "Ames_data.sample(n = 100)"
   ]
  },
  {
   "cell_type": "code",
   "execution_count": null,
   "metadata": {},
   "outputs": [],
   "source": [
    "# There are null data values in the Ames housing set, so I apply the dropna() function and remove those values\n",
    "Ames_data.dropna(axis = 1)"
   ]
  },
  {
   "cell_type": "code",
   "execution_count": null,
   "metadata": {},
   "outputs": [],
   "source": [
    "# I want to calulate the mean of the Ames Housing dataset, so I call the mean() function\n",
    "Ames_data.mean()"
   ]
  },
  {
   "cell_type": "code",
   "execution_count": null,
   "metadata": {},
   "outputs": [],
   "source": [
    "# I want to calculate the median of the Ames Housing dataset, so I call the median() function\n",
    "Ames_data.median()"
   ]
  },
  {
   "cell_type": "code",
   "execution_count": null,
   "metadata": {
    "scrolled": true
   },
   "outputs": [],
   "source": [
    "# Now, let's calculate the variance of our data set\n",
    "Ames_data.var()"
   ]
  },
  {
   "cell_type": "code",
   "execution_count": null,
   "metadata": {},
   "outputs": [],
   "source": [
    "# Now, let's calculate the standard deviation of our data set\n",
    "Ames_data.std()"
   ]
  },
  {
   "cell_type": "code",
   "execution_count": null,
   "metadata": {},
   "outputs": [],
   "source": [
    "# Take the SaleData variable and plot a histogram\n",
    "num_bins = 20\n",
    "plt.hist(Ames_data['SalePrice'], num_bins, density = 1, facecolor = 'blue', alpha = 0.5)\n",
    "plt.show()"
   ]
  },
  {
   "cell_type": "code",
   "execution_count": null,
   "metadata": {},
   "outputs": [],
   "source": [
    "# Take the SaleData variable and generate a boxplot\n",
    "plt.boxplot(Ames_data['SalePrice'])\n",
    "plt.show()"
   ]
  },
  {
   "cell_type": "code",
   "execution_count": null,
   "metadata": {},
   "outputs": [],
   "source": [
    "# Let's plot the distribution for SalePrice\n",
    "sns.distplot(Ames_data['SalePrice'])"
   ]
  },
  {
   "cell_type": "code",
   "execution_count": null,
   "metadata": {},
   "outputs": [],
   "source": []
  }
 ],
 "metadata": {
  "kernelspec": {
   "display_name": "Python 3",
   "language": "python",
   "name": "python3"
  },
  "language_info": {
   "codemirror_mode": {
    "name": "ipython",
    "version": 3
   },
   "file_extension": ".py",
   "mimetype": "text/x-python",
   "name": "python",
   "nbconvert_exporter": "python",
   "pygments_lexer": "ipython3",
   "version": "3.7.4"
  }
 },
 "nbformat": 4,
 "nbformat_minor": 2
}
